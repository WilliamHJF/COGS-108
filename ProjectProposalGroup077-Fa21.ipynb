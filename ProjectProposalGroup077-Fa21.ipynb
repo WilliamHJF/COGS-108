{
 "cells": [
  {
   "cell_type": "markdown",
   "metadata": {},
   "source": [
    "# COGS 108 - Final Project Proposal"
   ]
  },
  {
   "cell_type": "markdown",
   "metadata": {},
   "source": [
    "# Names\n",
    "\n",
    "- Jianfan Huo\n",
    "- Yunhao Du\n",
    "- Yixiao An\n",
    "- Yixin Jiang\n",
    "- Celine Zhao"
   ]
  },
  {
   "cell_type": "markdown",
   "metadata": {},
   "source": [
    "# Research Question"
   ]
  },
  {
   "cell_type": "markdown",
   "metadata": {},
   "source": [
    "Is violent video game play a role in violence behaviors among teenagers between 2015-2020? If so, how do violent video games influence teenagers to engage in violent behavior?"
   ]
  },
  {
   "cell_type": "markdown",
   "metadata": {},
   "source": [
    "## Background and Prior Work"
   ]
  },
  {
   "cell_type": "markdown",
   "metadata": {},
   "source": [
    "In the past 30 years, video games have become one of the most popular entertainments for people in their leisure time, but in particular for the teenagers. More and more different types of video games, including some violent ones, have been launched. Since then, lots of teenagers have been attracted to these realistic violent acts and situation. They enjoy the thrill of the games and spend lots of time and money on them. \n",
    "\n",
    "However, the topic of whether the violent video games lead to violence has been arguing for many years. With the occurrence of school violence incidents, especially some school shootings, this topic has been more and more important. President Donald Trump had questioned the effect of video games since the Florida school shooting on February, 2018. He expressed that violent video games and movies may play a role in school shootings, a claim that has been made many times since the increase in such attacks in the past two decades **[1]**. \n",
    "\n",
    "Susan Scutti, a reporter and writer for CNN Health, says that “Both the American Psychological Association and the American Academy of Pediatrics take a firm stance against children and teens playing violent video games” (Scutti). According to the reports from these psychological groups, “more than 90% of children in the United States play video games. Among kids between the ages of 12 and 17, the number rises to 97%...85% or more of video games on the market contain some form of violence. The titles seem to say it all: ‘Manhunt,’ ‘Thrill Kill,’ ‘Gears of War’ and ‘Mortal Kombat’” **[2]**. Hence, we wonder whether violent video games are a strong factor that leads children to the violence and whether the more time young people spend on these games will increase children's violent tendencies. \n",
    "\n",
    "\n",
    "References (include links):\n",
    "- 1) https://variety.com/2018/politics/news/trump-video-games-movies-gun-violence-\n",
    "- 2) https://www.cnn.com/2016/07/25/health/video-games-and-violence/index.html"
   ]
  },
  {
   "cell_type": "markdown",
   "metadata": {},
   "source": [
    "# Hypothesis\n"
   ]
  },
  {
   "attachments": {},
   "cell_type": "markdown",
   "metadata": {},
   "source": [
    "Among teenagers, violent video games play a role in violence behaviors as there is a positive relationship between the amount of violent video consumption and inclination toward violence."
   ]
  },
  {
   "cell_type": "markdown",
   "metadata": {},
   "source": [
    "# Data"
   ]
  },
  {
   "attachments": {},
   "cell_type": "markdown",
   "metadata": {},
   "source": [
    "In this project, we hope to investigate whether teenagers who spend time playing violent video games will show more aggressive behaviors than teenagers who do not play violent games. The data set should include a survey of age, gender, race, total family income, game types, game violence level, weekly game duration, and aggressive behavior tendency in the last 6 months.\n",
    "\n",
    "To achieve ideal experimental results, we plan to include 10,000 effective observation samples, including 5,000 males and 5,000 females. To reduce the influence of age difference on results, we expect to look for samples with ages ranging from 13 to 16 years old. In addition, the race and total household income in the data can help us balance the living environment of most teenagers in the sample and match the census data.\n",
    "\n",
    "Data will be collected mainly through questionnaires, and the collection time of questionnaires should be from 2018 to 2020, because the data in this time interval can provide more value for future research or action. We hope that teenagers and their guardians will participate in the questionnaire. People will not be required to fill in information that may reveal their identity. In addition, there are many options for the questions in the questionnaire survey, so the final data collation should be simplified to specific scores or grades.\n",
    "\n",
    "The basic data sources of the final data set come from online self-report questionnaires of teenagers. For the game types, because there are too many kinds of games on the market at present, we hope to emphasize the most representative violent games, so the questionnaire survey will ask teenagers whether to play these games. Game-related information, including the level of game violence, can be obtained from the classification, and scoring of game websites. The total scores of multiple indicators (game mode, game bloodiness, game sales volume and player quality) will constitute the final rating. The most important indicator in the data is the tendency of aggressive behavior. If possible, besides referring to the results of teenagers' self-determination, we hope to get teenagers' guardians to participate in the questionnaire survey to help us judge teenagers' recent behavioral tendencies. This index needs to truly reflect teenagers' recent emotions and behaviors, so it is necessary to fill in multiple questions and score them. The total score of this series of questions will be used as the final judgment index for aggressive behavior tendency."
   ]
  },
  {
   "cell_type": "markdown",
   "metadata": {},
   "source": [
    "# Ethics & Privacy"
   ]
  },
  {
   "cell_type": "markdown",
   "metadata": {},
   "source": [
    "Our research question is to check the relationship between the violent video game and the violent behavior among teenagers. Because there are so many types of violent games, we can't pinpoint each video games. We will select video games from a variety of angles (video game mode, video game gore, game sales, player quality) to ensure that our results are as fair as possible. But as we mentioned above, aggression in video games was the main indicator of our study. However, our research doesn't cover all violent games. And we will try our best to ensure the accuracy of our research through the above indicators.\n",
    "\n",
    "As for the possible misuse of our research results, since we focus on the impact of violent games on adolescent violent behavior, our data cannot represent those violent games are the only factor causing adolescent violent behavior. Our findings are not intended to limit the development and distribution of violent games. Our study does not test or imply this. We are trying to improve the video game rating system, which is also good enough to maintain the market environment for video games. Another problem is that when we look at the data, we look primarily at popular violent games. This is not representative of all violent games, which is why we are still considering how to make our data more accurate. \n",
    "\n",
    "About the privacy that our research might lead to. Because our data is based on age, gender, race, total household income, game type, level of game violence, weekly game duration and aggressive behavior tendency in the last 6 months, our data may violate some family privacy. We will select publicly available data from several government websites to protect the privacy of teenagers and their families from leaks of our data and findings."
   ]
  },
  {
   "cell_type": "markdown",
   "metadata": {},
   "source": [
    "# Team Expectations "
   ]
  },
  {
   "cell_type": "markdown",
   "metadata": {},
   "source": [
    "* *Team Expectation 1*\n",
    "\n",
    "Working as team, we expect all our team members to respect one and other’s work and time. It is crucial for all of us to communicate throughout the time for all decision making and always be updated on any decision change. We will meet at least once a week to meet get updated with everyone’s progress on our assigned task and to discuss and receive feedback on our work.\n",
    "\n",
    "* *Team Expectation 2*\n",
    "\n",
    "Furthermore, we will value all meeting times and fully engage in discussions and will always be actively thinking new ideas of how we can make improvements. All team members are expected to complete their work by the assigned deadline and put their strongest effort in it.\n",
    "\n",
    "* *Team Expecation 3*\n",
    "\n",
    "Lastly, we expect all team members to a maintain an effective communication, be open minded and involved, hold itself accountable, and most importantly be commited to the team."
   ]
  },
  {
   "cell_type": "markdown",
   "metadata": {},
   "source": [
    "# Project Timeline Proposal"
   ]
  },
  {
   "cell_type": "markdown",
   "metadata": {},
   "source": [
    "| Meeting Date  | Meeting Time| Completed Before Meeting  | Discuss at Meeting |\n",
    "|---|---|---|---|\n",
    "| 10/13  |  3 PM | Read & Think about COGS 108 expectations; brainstorm topics/questions  | Determine best form of communication; Discuss and decide on final project topic; discuss hypothesis; begin background research | \n",
    "| 10/17  |  3 PM |  Do background research on topic | Discuss ideal dataset(s) and ethics; draft project proposal | \n",
    "| 10/20  | 3 PM  | Edit, finalize, and submit proposal; Search for datasets  | Discuss Wrangling and possible analytical approaches; Assign group members to lead each specific part   |\n",
    "| 11/3  | 3 PM  | Import & Wrangle Data (Ant Man); EDA (Hulk) | Review/Edit wrangling/EDA; Discuss Analysis Plan   |\n",
    "| 11/17  | 3 PM  | Finalize wrangling/EDA; Begin Analysis (Iron Man; Thor) | Discuss/edit Analysis; Complete project check-in |\n",
    "| 12/4  | 3 PM  | Complete analysis; Draft results/conclusion/discussion (Wasp)| Discuss/edit full project |\n",
    "| 12/10  | Before 11:59 PM  | NA | Turn in Final Project & Group Project Surveys |"
   ]
  }
 ],
 "metadata": {
  "kernelspec": {
   "display_name": "Python 3 (ipykernel)",
   "language": "python",
   "name": "python3"
  },
  "language_info": {
   "codemirror_mode": {
    "name": "ipython",
    "version": 3
   },
   "file_extension": ".py",
   "mimetype": "text/x-python",
   "name": "python",
   "nbconvert_exporter": "python",
   "pygments_lexer": "ipython3",
   "version": "3.9.5"
  }
 },
 "nbformat": 4,
 "nbformat_minor": 2
}
