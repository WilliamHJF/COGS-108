{
 "cells": [
  {
   "cell_type": "markdown",
   "metadata": {},
   "source": [
    "# COGS 108 - Final Project Proposal"
   ]
  },
  {
   "cell_type": "markdown",
   "metadata": {},
   "source": [
    "# Names\n",
    "\n",
    "- Jianfan Huo\n",
    "- Yunhao Du\n",
    "- Yixiao An\n",
    "- Yixin Jiang\n",
    "- Celine Zhao"
   ]
  },
  {
   "cell_type": "markdown",
   "metadata": {},
   "source": [
    "# Research Question"
   ]
  },
  {
   "attachments": {},
   "cell_type": "markdown",
   "metadata": {},
   "source": [
    "Did each state's economy made an impact on COVID-19 vaccination coverage rate?"
   ]
  },
  {
   "cell_type": "markdown",
   "metadata": {},
   "source": [
    "## Background and Prior Work"
   ]
  },
  {
   "attachments": {},
   "cell_type": "markdown",
   "metadata": {},
   "source": [
    "The COVID-19 epidemic is a huge challenge that the whole world is facing together. On January 10-12, 2020, the WTO published documents about how the novel coronavirus(COVID-19) can has high transmission and infection rate, and also guiding people how to manage with this disease[1]. From the beginning of 2020 until now, COVID-19 is still continue affecting people’s live all over the world. The United States also implemented city lockdown and social distancing restriction during the pandemic to try to reduce the spread and impact of COVID-19. Although COVID-19 virus have not be eliminated today, the COVID-19 vaccine was produced and approved to use. \"Since Dec. 11, 2020, the Pfizer-BioNTech COVID-19 Vaccine has been available under EUA in individuals 16 years of age and older \" (U. S. Food and Drug Administration, 2021)[2]. However, the rate of COVID-19 vaccination coverage has not reaching 100% in U.S.. CDC indicates that the national rate of fully vaccination coverage is approximately 58.5% by November 9, 2021, and only 67.5% people have completed at least one dose[3].\n",
    "\n",
    "Data from the New York Times shows that each state has a different completion rate for COVID-19 vaccine, with vaccination coverage rates ranging from 87% to 36%[4]. Based on the statement from FDA, it is known that people can have COVID-19 vaccine for free in U.S.[5]. At March 5, 2021, Pew Research Center reports that in U.S., 14% of low-income adults reported that they had received at least one dose of the vaccine, compared with 20% of middle-income adults and 27% of high-income adults [6]. The rate of vaccination coverage meant to be thought-provoking. Does each state of the economy has an impact on COVID-19 vaccination rate? If there is an impact, what is the relationship between state economy and vaccination rates?\n",
    "\n",
    "References (include links):\n",
    "- 1) https://www.who.int/emergencies/diseases/novel-coronavirus-2019/interactive-timeline#!\n",
    "- 2) https://covid.cdc.gov/covid-data-tracker/#vaccinations_vacc-total-admin-rate-total  \n",
    "- 3) https://www.fda.gov/news-events/press-announcements/fda-approves-first-covid-19-vaccine \n",
    "- 4) https://www.nytimes.com/interactive/2020/us/covid-19-vaccine-doses.html \n",
    "- 5) https://www.fda.gov/consumers/consumer-updates/learn-more-about-covid-19-vaccines-fda#:~:text=FDA%2Dauthorized%20COVID%2D,or%20after%20your%20appointment. \n",
    "- 6) https://www.pewresearch.org/science/2021/03/05/growing-share-of-americans-say-they-plan-to-get-a-covid-19-vaccine-or-already-have/\n"
   ]
  },
  {
   "cell_type": "markdown",
   "metadata": {},
   "source": [
    "# Hypothesis\n"
   ]
  },
  {
   "cell_type": "markdown",
   "metadata": {},
   "source": [
    "Each state made a contribution on the spread of COVID-19."
   ]
  },
  {
   "cell_type": "markdown",
   "metadata": {},
   "source": [
    "# Data"
   ]
  },
  {
   "cell_type": "markdown",
   "metadata": {},
   "source": [
    "In this project, we hope to investigate if each state’s economy effectively contributes to the spread of COVID-19. The set of data should contain information about the number of people vaccinated for each state, which we will use to determine the proportion of people vaccinated per state, and the GDP and personal income since each state's economy varies.\n",
    "\n",
    "To achieve ideal experimental results, we plan to include 10,000 effective observation samples. To reduce the influence of differences between each state, we plan to take individual samples from each state, so we can specifically see if each state is contributing. In addition, we would focus more on the population and economy of each state because we care more about the proportion than how much each state actually contributed since the economic situation varies.\n",
    "\n",
    "Data will be collected mainly through CDC and public government sites for accurate information. We hope to mainly analyze a specific season for the number of people vaccinated for each brand, corresponding with personal income and GDP. Since it is a government publication, people will not be required to fill in information that may reveal their identity. In addition, we are trying to bring the data to a broader view, so we can get a rough estimate of each state.\n",
    "\n",
    "The basic data sources of the final data set come from government-published information. Our main data will be focused on the number of people vaccinated per state, the average personal income, and the state's GDP over a time period typically would be a season. We can guarantee the accuracy of the data, so our main goal is to clean the data and combine all the information we’ve collected."
   ]
  },
  {
   "cell_type": "markdown",
   "metadata": {},
   "source": [
    "# Ethics & Privacy"
   ]
  },
  {
   "cell_type": "markdown",
   "metadata": {},
   "source": [
    "Our research question is to check if each state is contributing to the spread of COVID-19. In terms of data, we will be collecting from the government’s site, so we can guarantee the accuracy of it. Our goal is to focus on a specific season for data analysis, which will include information about the number of people vaccinated each date for that whole season, the GPD, and personal income. There might be bias here since it is based on a seasonal term, especially with GDP and personal income. For example, in sales services there are busy and non-busy seasons, meaning it affects the GDP accuracy when we only look at one. Moreover, people might prefer getting vaccinated at a specific season than others, hence will create a difference.\n",
    "\n",
    "To avoid any biases we will bring our data in a broader view because there isn’t any other season for comparisons. Furthermore, due to sample sizes and variation, there may be bias in a specific state. If we are collecting 1000 samples from both California and Michigan, then the sample will better represent Michigan than California because California has a bigger population. Therefore, we hope to be consistent with all samples and be as balanced as possible.\n"
   ]
  },
  {
   "cell_type": "markdown",
   "metadata": {},
   "source": [
    "# Team Expectations "
   ]
  },
  {
   "cell_type": "markdown",
   "metadata": {},
   "source": [
    "* *Team Expectation 1*\n",
    "\n",
    "Working as team, we expect all our team members to respect one and other’s work and time. It is crucial for all of us to communicate throughout the time for all decision making and always be updated on any decision change. We will meet at least once a week to meet get updated with everyone’s progress on our assigned task and to discuss and receive feedback on our work.\n",
    "\n",
    "* *Team Expectation 2*\n",
    "\n",
    "Furthermore, we will value all meeting times and fully engage in discussions and will always be actively thinking new ideas of how we can make improvements. All team members are expected to complete their work by the assigned deadline and put their strongest effort in it.\n",
    "\n",
    "* *Team Expecation 3*\n",
    "\n",
    "Lastly, we expect all team members to a maintain an effective communication, be open minded and involved, hold itself accountable, and most importantly be commited to the team."
   ]
  },
  {
   "cell_type": "markdown",
   "metadata": {},
   "source": [
    "# Project Timeline Proposal"
   ]
  },
  {
   "cell_type": "markdown",
   "metadata": {},
   "source": [
    "| Meeting Date  | Meeting Time| Completed Before Meeting  | Discuss at Meeting |\n",
    "|---|---|---|---|\n",
    "| 10/13  |  3 PM | Read & Think about COGS 108 expectations; brainstorm topics/questions  | Determine best form of communication; Discuss and decide on final project topic; discuss hypothesis; begin background research | \n",
    "| 10/17  |  3 PM |  Do background research on topic | Discuss ideal dataset(s) and ethics; draft project proposal | \n",
    "| 10/20  | 3 PM  | Edit, finalize, and submit proposal; Search for datasets  | Discuss Wrangling and possible analytical approaches; Assign group members to lead each specific part   |\n",
    "| 11/3  | 3 PM  | Import & Wrangle Data; EDA | Review/Edit wrangling/EDA; Discuss Analysis Plan   |\n",
    "| 11/17  | 3 PM  | Finalize wrangling/EDA; Begin Analysis| Discuss/edit Analysis; Complete project check-in |\n",
    "| 12/4  | 3 PM  | Complete analysis; Draft results/conclusion/discussion| Discuss/edit full project |\n",
    "| 12/10  | Before 11:59 PM  | NA | Turn in Final Project & Group Project Surveys |"
   ]
  },
  {
   "cell_type": "code",
   "execution_count": null,
   "metadata": {},
   "outputs": [],
   "source": []
  }
 ],
 "metadata": {
  "kernelspec": {
   "display_name": "Python 3 (ipykernel)",
   "language": "python",
   "name": "python3"
  },
  "language_info": {
   "codemirror_mode": {
    "name": "ipython",
    "version": 3
   },
   "file_extension": ".py",
   "mimetype": "text/x-python",
   "name": "python",
   "nbconvert_exporter": "python",
   "pygments_lexer": "ipython3",
   "version": "3.9.5"
  }
 },
 "nbformat": 4,
 "nbformat_minor": 2
}
